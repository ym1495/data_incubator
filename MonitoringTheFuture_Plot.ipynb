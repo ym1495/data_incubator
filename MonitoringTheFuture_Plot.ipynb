{
 "cells": [
  {
   "cell_type": "code",
   "execution_count": 1,
   "metadata": {
    "collapsed": true
   },
   "outputs": [],
   "source": [
    "import pandas as pd\n",
    "import numpy as np\n",
    "import plotly\n",
    "import seaborn\n",
    "import csv\n",
    "import os"
   ]
  },
  {
   "cell_type": "code",
   "execution_count": 3,
   "metadata": {},
   "outputs": [],
   "source": [
    "import matplotlib.pyplot as plt"
   ]
  },
  {
   "cell_type": "code",
   "execution_count": 5,
   "metadata": {
    "scrolled": true
   },
   "outputs": [
    {
     "data": {
      "text/plain": [
       "[1991,\n",
       " 1992,\n",
       " 1993,\n",
       " 1994,\n",
       " 1995,\n",
       " 1996,\n",
       " 1997,\n",
       " 1998,\n",
       " 1999,\n",
       " 2000,\n",
       " 2001,\n",
       " 2002,\n",
       " 2003,\n",
       " 2004,\n",
       " 2005,\n",
       " 2006,\n",
       " 2007,\n",
       " 2008,\n",
       " 2009,\n",
       " 2010,\n",
       " 2011,\n",
       " 2012,\n",
       " 2013,\n",
       " 2014,\n",
       " 2015,\n",
       " 2016,\n",
       " 2017,\n",
       " 2018]"
      ]
     },
     "execution_count": 5,
     "metadata": {},
     "output_type": "execute_result"
    }
   ],
   "source": [
    "Year = '1991 1992 1993 1994 1995 1996 1997 1998 1999 2000 2001 2002 2003 2004 2005 2006 2007 2008 2009 2010 2011 2012 2013 2014 2015 2016 2017 2018'\n",
    "Year = Year.split()\n",
    "Year = [int(i) for i in Year]\n",
    "Year"
   ]
  },
  {
   "cell_type": "code",
   "execution_count": 6,
   "metadata": {
    "scrolled": true
   },
   "outputs": [
    {
     "data": {
      "text/plain": [
       "[3.2,\n",
       " 3.7,\n",
       " 5.1,\n",
       " 7.8,\n",
       " 9.1,\n",
       " 11.3,\n",
       " 10.2,\n",
       " 9.7,\n",
       " 9.7,\n",
       " 9.1,\n",
       " 9.2,\n",
       " 8.3,\n",
       " 7.5,\n",
       " 6.4,\n",
       " 6.6,\n",
       " 6.5,\n",
       " 5.7,\n",
       " 5.8,\n",
       " 6.5,\n",
       " 8.0,\n",
       " 7.2,\n",
       " 6.5,\n",
       " 7.0,\n",
       " 6.5,\n",
       " 6.5,\n",
       " 5.4,\n",
       " 5.5,\n",
       " 5.6]"
      ]
     },
     "execution_count": 6,
     "metadata": {},
     "output_type": "execute_result"
    }
   ],
   "source": [
    "Marijuana_8thGrade = '3.2 3.7 5.1 7.8 9.1 11.3 10.2 9.7 9.7 9.1 9.2 8.3 7.5 6.4 6.6 6.5 5.7 5.8 6.5 8.0 7.2 6.5 7.0 6.5 6.5 5.4 5.5 5.6'\n",
    "Marijuana_8thGrade = Marijuana_8thGrade.split()\n",
    "Marijuana_8thGrade = [float(i) for i in Marijuana_8thGrade]\n",
    "Marijuana_8thGrade"
   ]
  },
  {
   "cell_type": "code",
   "execution_count": 7,
   "metadata": {},
   "outputs": [
    {
     "data": {
      "text/plain": [
       "[8.7,\n",
       " 8.1,\n",
       " 10.9,\n",
       " 15.8,\n",
       " 17.2,\n",
       " 20.4,\n",
       " 20.5,\n",
       " 18.7,\n",
       " 19.4,\n",
       " 19.7,\n",
       " 19.8,\n",
       " 17.8,\n",
       " 17.0,\n",
       " 15.9,\n",
       " 15.2,\n",
       " 14.2,\n",
       " 14.2,\n",
       " 13.8,\n",
       " 15.9,\n",
       " 16.7,\n",
       " 17.6,\n",
       " 17.0,\n",
       " 18.0,\n",
       " 16.6,\n",
       " 14.8,\n",
       " 14.0,\n",
       " 15.7,\n",
       " 16.7]"
      ]
     },
     "execution_count": 7,
     "metadata": {},
     "output_type": "execute_result"
    }
   ],
   "source": [
    "Marijuana_10thGrade = '8.7 8.1 10.9 15.8 17.2 20.4 20.5 18.7 19.4 19.7 19.8 17.8 17.0 15.9 15.2 14.2 14.2 13.8 15.9 16.7 17.6 17.0 18.0 16.6 14.8 14.0 15.7 16.7'\n",
    "Marijuana_10thGrade = Marijuana_10thGrade.split()\n",
    "Marijuana_10thGrade = [float(i) for i in Marijuana_10thGrade]\n",
    "Marijuana_10thGrade"
   ]
  },
  {
   "cell_type": "code",
   "execution_count": 8,
   "metadata": {},
   "outputs": [
    {
     "data": {
      "text/plain": [
       "[13.8,\n",
       " 11.9,\n",
       " 15.5,\n",
       " 19.0,\n",
       " 21.2,\n",
       " 21.9,\n",
       " 23.7,\n",
       " 22.8,\n",
       " 23.1,\n",
       " 21.6,\n",
       " 22.4,\n",
       " 21.5,\n",
       " 21.2,\n",
       " 19.9,\n",
       " 19.8,\n",
       " 18.3,\n",
       " 18.8,\n",
       " 19.4,\n",
       " 20.6,\n",
       " 21.4,\n",
       " 22.6,\n",
       " 22.9,\n",
       " 22.7,\n",
       " 21.2,\n",
       " 21.3,\n",
       " 22.5,\n",
       " 22.9,\n",
       " 22.2]"
      ]
     },
     "execution_count": 8,
     "metadata": {},
     "output_type": "execute_result"
    }
   ],
   "source": [
    "Marijuana_12thGrade = '13.8 11.9 15.5 19.0 21.2 21.9 23.7 22.8 23.1 21.6 22.4 21.5 21.2 19.9 19.8 18.3 18.8 19.4 20.6 21.4 22.6 22.9 22.7 21.2 21.3 22.5 22.9 22.2'\n",
    "Marijuana_12thGrade = Marijuana_12thGrade.split()\n",
    "Marijuana_12thGrade = [float(i) for i in Marijuana_12thGrade]\n",
    "Marijuana_12thGrade"
   ]
  },
  {
   "cell_type": "code",
   "execution_count": 10,
   "metadata": {},
   "outputs": [],
   "source": [
    "Cigarettes_8thGrade = '14.3 15.5 16.7 18.6 19.1 21.0 19.4 19.1 17.5 14.6 12.2 10.7 10.2 9.2 9.3 8.7 7.1 6.8 6.5 7.1 6.1 4.9 4.5 4.0 3.6 2.6 1.9 2.2'\n",
    "Cigarettes_10thGrade = '20.8 21.5 24.7 25.4 27.9 30.4 29.8 27.6 25.7 23.9 21.3 17.7 16.7 16.0 14.9 14.5 14.0 12.3 13.1 13.6 11.8 10.8 9.1 7.2 6.3 4.9 5.0 4.2'\n",
    "Cigarettes_12thGrade = '28.3 27.8 29.9 31.2 33.5 34.0 36.5 35.1 34.6 31.4 29.5 26.7 24.4 25.0 23.2 21.6 21.6 20.4 20.1 19.2 18.7 17.1 16.3 13.6 11.4 10.5 9.7 7.6'\n",
    "Alcohol_8thGrade = '25.1 26.1 24.3 25.5 24.6 26.2 24.5 23.0 24.0 22.4 21.5 19.6 19.7 18.6 17.1 17.2 15.9 15.9 14.9 13.8 12.7 11.0 10.2 9.0 9.7 7.3 8.0 8.2'\n",
    "Alcohol_10thGrade = '42.8 39.9 38.2 39.2 38.8 40.4 40.1 38.8 40.0 41.0 39.0 35.4 35.4 35.2 33.2 33.8 33.4 28.8 30.4 28.9 27.2 27.6 25.7 23.5 21.5 19.9 19.7 18.6'\n",
    "Alcohol_12thGrade = '54.0 51.3 48.6 50.1 51.3 50.8 52.7 52.0 51.0 50.0 49.8 48.6 47.5 48.0 47.0 45.3 44.4 43.1 43.5 41.2 40.0 41.5 39.2 37.4 35.3 33.2 33.2 30.2'\n",
    "\n",
    "Cigarettes_8thGrade = Cigarettes_8thGrade.split()\n",
    "Cigarettes_8thGrade = [float(i) for i in Cigarettes_8thGrade]\n",
    "Cigarettes_10thGrade = Cigarettes_10thGrade.split()\n",
    "Cigarettes_10thGrade = [float(i) for i in Cigarettes_10thGrade]\n",
    "Cigarettes_12thGrade = Cigarettes_12thGrade.split()\n",
    "Cigarettes_12thGrade = [float(i) for i in Cigarettes_12thGrade]\n",
    "\n",
    "Alcohol_8thGrade = Alcohol_8thGrade.split()\n",
    "Alcohol_8thGrade = [float(i) for i in Alcohol_8thGrade]\n",
    "Alcohol_10thGrade = Alcohol_10thGrade.split()\n",
    "Alcohol_10thGrade = [float(i) for i in Alcohol_10thGrade]\n",
    "Alcohol_12thGrade = Alcohol_12thGrade.split()\n",
    "Alcohol_12thGrade = [float(i) for i in Alcohol_12thGrade]"
   ]
  },
  {
   "cell_type": "code",
   "execution_count": 12,
   "metadata": {},
   "outputs": [
    {
     "data": {
      "text/html": [
       "<iframe id=\"igraph\" scrolling=\"no\" style=\"border:none;\" seamless=\"seamless\" src=\"https://plot.ly/~ym1495/34.embed\" height=\"525px\" width=\"100%\"></iframe>"
      ],
      "text/plain": [
       "<plotly.tools.PlotlyDisplay object>"
      ]
     },
     "execution_count": 12,
     "metadata": {},
     "output_type": "execute_result"
    }
   ],
   "source": [
    "import plotly.plotly as py\n",
    "import plotly.graph_objs as go\n",
    "\n",
    "# Add data\n",
    "# month = ['January', 'February', 'March', 'April', 'May', 'June', 'July',\n",
    "#          'August', 'September', 'October', 'November', 'December']\n",
    "# high_2000 = [32.5, 37.6, 49.9, 53.0, 69.1, 75.4, 76.5, 76.6, 70.7, 60.6, 45.1, 29.3]\n",
    "# low_2000 = [13.8, 22.3, 32.5, 37.2, 49.9, 56.1, 57.7, 58.3, 51.2, 42.8, 31.6, 15.9]\n",
    "# high_2007 = [36.5, 26.6, 43.6, 52.3, 71.5, 81.4, 80.5, 82.2, 76.0, 67.3, 46.1, 35.0]\n",
    "# low_2007 = [23.6, 14.0, 27.0, 36.8, 47.6, 57.7, 58.9, 61.2, 53.3, 48.5, 31.0, 23.6]\n",
    "# high_2014 = [28.8, 28.5, 37.0, 56.8, 69.7, 79.7, 78.5, 77.8, 74.1, 62.6, 45.3, 39.9]\n",
    "# low_2014 = [12.7, 14.3, 18.6, 35.5, 49.9, 58.0, 60.0, 58.6, 51.7, 45.2, 32.2, 29.1]\n",
    "\n",
    "# Create and style traces\n",
    "trace0 = go.Scatter(\n",
    "    x = Year,\n",
    "    y = Marijuana_8thGrade,\n",
    "    name = 'Marijuana_8thGrade',\n",
    "    line = dict(\n",
    "        color = ('rgb(205, 12, 24)'),\n",
    "        width = 4)\n",
    ")\n",
    "trace1 = go.Scatter(\n",
    "    x = Year,\n",
    "    y = Marijuana_10thGrade,\n",
    "    name = 'Marijuana_10thGrade',\n",
    "    line = dict(\n",
    "        color = ('rgb(22, 96, 167)'),\n",
    "        width = 4,)\n",
    ")\n",
    "trace2 = go.Scatter(\n",
    "    x = Year,\n",
    "    y = Marijuana_12thGrade,\n",
    "    name = 'Marijuana_12thGrade',\n",
    "    line = dict(\n",
    "        color = ('rgb(77, 205, 16)'),\n",
    "        width = 4,)\n",
    ")\n",
    "\n",
    "\n",
    "\n",
    "\n",
    "trace3 = go.Scatter(\n",
    "    x = Year,\n",
    "    y = Cigarettes_8thGrade,\n",
    "    name = 'Cigarettes_8thGrade',\n",
    "    line = dict(\n",
    "        color = ('rgb(205, 12, 24)'),\n",
    "        width = 4,\n",
    "        dash = 'dash') # dash options include 'dash', 'dot', and 'dashdot'\n",
    ")\n",
    "trace4 = go.Scatter(\n",
    "    x = Year,\n",
    "    y = Cigarettes_10thGrade,\n",
    "    name = 'Cigarettes_10thGrade',\n",
    "    line = dict(\n",
    "        color = ('rgb(22, 96, 167)'),\n",
    "        width = 4,\n",
    "        dash = 'dash')\n",
    ")\n",
    "\n",
    "trace5 = go.Scatter(\n",
    "    x = Year,\n",
    "    y = Cigarettes_10thGrade,\n",
    "    name = 'Cigarettes_10thGrade',\n",
    "    line = dict(\n",
    "        color = ('rgb(77, 205, 16)'),\n",
    "        width = 4,\n",
    "        dash = 'dash')\n",
    ")\n",
    "\n",
    "\n",
    "\n",
    "trace6 = go.Scatter(\n",
    "    x = Year,\n",
    "    y = Alcohol_8thGrade,\n",
    "    name = 'Alcohol_8thGrade',\n",
    "    line = dict(\n",
    "        color = ('rgb(205, 12, 24)'),\n",
    "        width = 4,\n",
    "        dash = 'dot')\n",
    ")\n",
    "trace7 = go.Scatter(\n",
    "    x = Year,\n",
    "    y = Alcohol_10thGrade,\n",
    "    name = 'Alcohol_10thGrade',\n",
    "    line = dict(\n",
    "        color = ('rgb(22, 96, 167)'),\n",
    "        width = 4,\n",
    "        dash = 'dot')\n",
    ")\n",
    "trace8 = go.Scatter(\n",
    "    x = Year,\n",
    "    y = Alcohol_12thGrade,\n",
    "    name = 'Alcohol_12thGrade',\n",
    "    line = dict(\n",
    "        color = ('rgb(77, 205, 16)'),\n",
    "        width = 4,\n",
    "        dash = 'dot')\n",
    ")\n",
    "\n",
    "data = [trace0, trace1, trace2, trace3, trace4, trace5, trace6,trace7,trace8]\n",
    "\n",
    "# Edit the layout\n",
    "layout = dict(title = 'Trends in 30-Day Prevalence of Use of Various Drugs in Grades 8, 10, and 12',\n",
    "              xaxis = dict(title = 'Year'),\n",
    "              yaxis = dict(title = 'Percentage who used in last 30 days'),\n",
    "              )\n",
    "\n",
    "fig = dict(data=data, layout=layout)\n",
    "py.iplot(fig, filename='styled-line')"
   ]
  },
  {
   "cell_type": "code",
   "execution_count": null,
   "metadata": {
    "collapsed": true
   },
   "outputs": [],
   "source": []
  }
 ],
 "metadata": {
  "kernelspec": {
   "display_name": "Python 3",
   "language": "python",
   "name": "python3"
  },
  "language_info": {
   "codemirror_mode": {
    "name": "ipython",
    "version": 3
   },
   "file_extension": ".py",
   "mimetype": "text/x-python",
   "name": "python",
   "nbconvert_exporter": "python",
   "pygments_lexer": "ipython3",
   "version": "3.6.2"
  }
 },
 "nbformat": 4,
 "nbformat_minor": 2
}
